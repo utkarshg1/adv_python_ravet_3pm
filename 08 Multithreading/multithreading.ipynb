{
 "cells": [
  {
   "cell_type": "markdown",
   "id": "863c880c",
   "metadata": {},
   "source": [
    "# Multithreading\n",
    "1. single thread - can execute one task at a time\n",
    "2. multiple thread - can excute muliple functions simultaneously"
   ]
  },
  {
   "cell_type": "code",
   "execution_count": 1,
   "id": "8e30a17a",
   "metadata": {},
   "outputs": [],
   "source": [
    "from warnings import filterwarnings\n",
    "\n",
    "filterwarnings(\"ignore\")"
   ]
  },
  {
   "cell_type": "markdown",
   "id": "b6abe6bb",
   "metadata": {},
   "source": [
    "## Time.sleep \n",
    "code will be idle for given seconds"
   ]
  },
  {
   "cell_type": "code",
   "execution_count": 2,
   "id": "90803666",
   "metadata": {},
   "outputs": [],
   "source": [
    "import time"
   ]
  },
  {
   "cell_type": "code",
   "execution_count": 4,
   "id": "cb610e84",
   "metadata": {},
   "outputs": [
    {
     "name": "stdout",
     "output_type": "stream",
     "text": [
      "Hello\n",
      "ETLHive!\n",
      "CPU times: total: 0 ns\n",
      "Wall time: 5 s\n"
     ]
    }
   ],
   "source": [
    "%%time\n",
    "time.sleep(3)\n",
    "print(\"Hello\")\n",
    "time.sleep(2)\n",
    "print(\"ETLHive!\")"
   ]
  },
  {
   "cell_type": "markdown",
   "id": "4cbc3c97",
   "metadata": {},
   "source": [
    "### 2 different functions"
   ]
  },
  {
   "cell_type": "code",
   "execution_count": 5,
   "id": "29090d62",
   "metadata": {},
   "outputs": [],
   "source": [
    "import math"
   ]
  },
  {
   "cell_type": "code",
   "execution_count": 9,
   "id": "8f236344",
   "metadata": {},
   "outputs": [],
   "source": [
    "def hypotenuse(a, b):\n",
    "    print(\"Hypotenuse function started\")\n",
    "    time.sleep(2)\n",
    "    c = math.sqrt(a**2 + b**2)\n",
    "    print(f\"Hypotenuse of sides {a} and {b} is {c:.4f}\")\n",
    "    print(\"Hypotenuse function completed\")"
   ]
  },
  {
   "cell_type": "code",
   "execution_count": 10,
   "id": "6efb4aad",
   "metadata": {},
   "outputs": [],
   "source": [
    "def simple_interest(p, n, r):\n",
    "    print(\"Simple Interest function started\")\n",
    "    time.sleep(3)\n",
    "    i = (p * n * r) / 100\n",
    "    a = p + i\n",
    "    print(f\"Simple Interest : {i:.2f} INR\")\n",
    "    print(f\"Amount : {a:.2f} INR\")\n",
    "    print(\"Simple Interest function complete\")"
   ]
  },
  {
   "cell_type": "code",
   "execution_count": 11,
   "id": "f0ddd42f",
   "metadata": {},
   "outputs": [
    {
     "name": "stdout",
     "output_type": "stream",
     "text": [
      "Hypotenuse function started\n",
      "Hypotenuse of sides 12 and 13 is 17.6918\n",
      "Hypotenuse function completed\n",
      "CPU times: total: 0 ns\n",
      "Wall time: 2.01 s\n"
     ]
    }
   ],
   "source": [
    "%%time\n",
    "hypotenuse(12, 13)"
   ]
  },
  {
   "cell_type": "code",
   "execution_count": 12,
   "id": "7c912569",
   "metadata": {},
   "outputs": [
    {
     "name": "stdout",
     "output_type": "stream",
     "text": [
      "Simple Interest function started\n",
      "Simple Interest : 1950.00 INR\n",
      "Amount : 11950.00 INR\n",
      "Simple Interest function complete\n",
      "CPU times: total: 0 ns\n",
      "Wall time: 3 s\n"
     ]
    }
   ],
   "source": [
    "%%time\n",
    "simple_interest(p=10000, n=3, r=6.5)"
   ]
  },
  {
   "cell_type": "markdown",
   "id": "c719f6cc",
   "metadata": {},
   "source": [
    "### Single Thread execution"
   ]
  },
  {
   "cell_type": "code",
   "execution_count": 13,
   "id": "9aad444a",
   "metadata": {},
   "outputs": [
    {
     "name": "stdout",
     "output_type": "stream",
     "text": [
      "Hypotenuse function started\n",
      "Hypotenuse of sides 3 and 4 is 5.0000\n",
      "Hypotenuse function completed\n",
      "Simple Interest function started\n",
      "Simple Interest : 7100.00 INR\n",
      "Amount : 32100.00 INR\n",
      "Simple Interest function complete\n",
      "CPU times: total: 15.6 ms\n",
      "Wall time: 5.01 s\n"
     ]
    }
   ],
   "source": [
    "%%time\n",
    "hypotenuse(3, 4)\n",
    "simple_interest(p=25000, n=4, r=7.1)"
   ]
  },
  {
   "cell_type": "markdown",
   "id": "be5568eb",
   "metadata": {},
   "source": [
    "### Multithreading"
   ]
  },
  {
   "cell_type": "code",
   "execution_count": 16,
   "id": "2ac87a4d",
   "metadata": {},
   "outputs": [],
   "source": [
    "from threading import Thread"
   ]
  },
  {
   "cell_type": "code",
   "execution_count": 18,
   "id": "ae63e72e",
   "metadata": {},
   "outputs": [
    {
     "name": "stdout",
     "output_type": "stream",
     "text": [
      "Hypotenuse function started\n",
      "Simple Interest function started\n",
      "Hypotenuse of sides 11 and 12 is 16.2788\n",
      "Hypotenuse function completed\n",
      "Simple Interest : 18750.00 INR\n",
      "Amount : 68750.00 INR\n",
      "Simple Interest function complete\n",
      "CPU times: total: 15.6 ms\n",
      "Wall time: 3.13 s\n"
     ]
    }
   ],
   "source": [
    "%%time\n",
    "# Create different threads for each function\n",
    "th1 = Thread(target=hypotenuse, args=(11, 12))\n",
    "th2 = Thread(target=simple_interest, args=(50000, 5, 7.5))\n",
    "\n",
    "# Start all the threads simultaneously\n",
    "th1.start()\n",
    "th2.start()\n",
    "\n",
    "# Wait for all threads to finish\n",
    "th1.join()\n",
    "th2.join()"
   ]
  },
  {
   "cell_type": "markdown",
   "id": "5bf96e6a",
   "metadata": {},
   "source": [
    "### Single function but want to calculate multiple values"
   ]
  },
  {
   "cell_type": "code",
   "execution_count": 19,
   "id": "4602c6dd",
   "metadata": {},
   "outputs": [],
   "source": [
    "def square(n):\n",
    "    time.sleep(1)\n",
    "    s = n**2\n",
    "    print(f\"Square of number {n} is {s}\")"
   ]
  },
  {
   "cell_type": "code",
   "execution_count": 20,
   "id": "9777f1d7",
   "metadata": {},
   "outputs": [
    {
     "name": "stdout",
     "output_type": "stream",
     "text": [
      "Square of number 5 is 25\n",
      "CPU times: total: 15.6 ms\n",
      "Wall time: 1 s\n"
     ]
    }
   ],
   "source": [
    "%%time\n",
    "square(5)"
   ]
  },
  {
   "cell_type": "code",
   "execution_count": 21,
   "id": "d3f07844",
   "metadata": {},
   "outputs": [
    {
     "data": {
      "text/plain": [
       "7"
      ]
     },
     "execution_count": 21,
     "metadata": {},
     "output_type": "execute_result"
    }
   ],
   "source": [
    "a = [2, 3, 4, 5, 6, 7, 8]\n",
    "len(a)"
   ]
  },
  {
   "cell_type": "markdown",
   "id": "a22b8ddb",
   "metadata": {},
   "source": [
    "### Single threaded execution using for loop"
   ]
  },
  {
   "cell_type": "code",
   "execution_count": 22,
   "id": "9aa33f62",
   "metadata": {},
   "outputs": [
    {
     "name": "stdout",
     "output_type": "stream",
     "text": [
      "Square of number 2 is 4\n",
      "Square of number 3 is 9\n",
      "Square of number 4 is 16\n",
      "Square of number 5 is 25\n",
      "Square of number 6 is 36\n",
      "Square of number 7 is 49\n",
      "Square of number 8 is 64\n",
      "CPU times: total: 15.6 ms\n",
      "Wall time: 7.02 s\n"
     ]
    }
   ],
   "source": [
    "%%time\n",
    "for i in a:\n",
    "    square(i)"
   ]
  },
  {
   "cell_type": "markdown",
   "id": "7fc1adca",
   "metadata": {},
   "source": [
    "### Mutithreaded Excution"
   ]
  },
  {
   "cell_type": "code",
   "execution_count": 24,
   "id": "410f661b",
   "metadata": {},
   "outputs": [],
   "source": [
    "def square_multi(nums: list):\n",
    "    # Create a blank list for storing all threads\n",
    "    threads = []\n",
    "\n",
    "    # Create all threads and start\n",
    "    for i in nums:\n",
    "        th = Thread(target=square, args=(i,))\n",
    "        th.start()\n",
    "        threads.append(th)\n",
    "\n",
    "    # Wait for all threads to finish\n",
    "    for th in threads:\n",
    "        th.join()"
   ]
  },
  {
   "cell_type": "code",
   "execution_count": 25,
   "id": "66fbd0d2",
   "metadata": {},
   "outputs": [
    {
     "data": {
      "text/plain": [
       "[2, 3, 4, 5, 6, 7, 8]"
      ]
     },
     "execution_count": 25,
     "metadata": {},
     "output_type": "execute_result"
    }
   ],
   "source": [
    "a"
   ]
  },
  {
   "cell_type": "code",
   "execution_count": 26,
   "id": "5b702384",
   "metadata": {},
   "outputs": [
    {
     "name": "stdout",
     "output_type": "stream",
     "text": [
      "Square of number 2 is 4\n",
      "Square of number 4 is 16\n",
      "Square of number 3 is 9\n",
      "Square of number 8 is 64\n",
      "Square of number 7 is 49\n",
      "Square of number 6 is 36\n",
      "Square of number 5 is 25\n",
      "CPU times: total: 0 ns\n",
      "Wall time: 1.02 s\n"
     ]
    }
   ],
   "source": [
    "%%time\n",
    "square_multi(a)"
   ]
  },
  {
   "cell_type": "code",
   "execution_count": 29,
   "id": "623ad725",
   "metadata": {},
   "outputs": [
    {
     "name": "stdout",
     "output_type": "stream",
     "text": [
      "[1, 2, 3, 4, 5, 6, 7, 8, 9, 10, 11, 12, 13, 14, 15, 16, 17, 18, 19, 20, 21, 22, 23, 24, 25, 26, 27, 28, 29, 30, 31, 32, 33, 34, 35, 36, 37, 38, 39, 40, 41, 42, 43, 44, 45, 46, 47, 48, 49, 50, 51, 52, 53, 54, 55, 56, 57, 58, 59, 60, 61, 62, 63, 64, 65, 66, 67, 68, 69, 70, 71, 72, 73, 74, 75, 76, 77, 78, 79, 80, 81, 82, 83, 84, 85, 86, 87, 88, 89, 90, 91, 92, 93, 94, 95, 96, 97, 98, 99]\n"
     ]
    }
   ],
   "source": [
    "b = list(range(1, 100))\n",
    "print(b)"
   ]
  },
  {
   "cell_type": "code",
   "execution_count": 31,
   "id": "5c82d8f0",
   "metadata": {},
   "outputs": [
    {
     "name": "stdout",
     "output_type": "stream",
     "text": [
      "Square of number 1 is 1Square of number 3 is 9\n",
      "Square of number 2 is 4\n",
      "Square of number 7 is 49\n",
      "Square of number 6 is 36\n",
      "Square of number 5 is 25\n",
      "Square of number 4 is 16\n",
      "Square of number 8 is 64\n",
      "\n",
      "Square of number 9 is 81\n",
      "Square of number 11 is 121\n",
      "Square of number 10 is 100\n",
      "Square of number 12 is 144\n",
      "Square of number 13 is 169\n",
      "Square of number 14 is 196\n",
      "Square of number 15 is 225\n",
      "Square of number 16 is 256\n",
      "Square of number 17 is 289\n",
      "Square of number 18 is 324\n",
      "Square of number 19 is 361\n",
      "Square of number 20 is 400\n",
      "Square of number 21 is 441\n",
      "Square of number 23 is 529\n",
      "Square of number 22 is 484\n",
      "Square of number 25 is 625\n",
      "Square of number 24 is 576\n",
      "Square of number 26 is 676\n",
      "Square of number 27 is 729\n",
      "Square of number 28 is 784\n",
      "Square of number 30 is 900\n",
      "Square of number 29 is 841\n",
      "Square of number 31 is 961\n",
      "Square of number 32 is 1024\n",
      "Square of number 34 is 1156\n",
      "Square of number 33 is 1089\n",
      "Square of number 35 is 1225\n",
      "Square of number 36 is 1296\n",
      "Square of number 37 is 1369\n",
      "Square of number 38 is 1444\n",
      "Square of number 40 is 1600\n",
      "Square of number 39 is 1521\n",
      "Square of number 42 is 1764\n",
      "Square of number 41 is 1681\n",
      "Square of number 43 is 1849\n",
      "Square of number 44 is 1936\n",
      "Square of number 46 is 2116\n",
      "Square of number 45 is 2025\n",
      "Square of number 47 is 2209\n",
      "Square of number 50 is 2500\n",
      "Square of number 49 is 2401\n",
      "Square of number 51 is 2601\n",
      "Square of number 53 is 2809\n",
      "Square of number 52 is 2704\n",
      "Square of number 54 is 2916\n",
      "Square of number 55 is 3025\n",
      "Square of number 56 is 3136\n",
      "Square of number 48 is 2304\n",
      "Square of number 58 is 3364\n",
      "Square of number 57 is 3249\n",
      "Square of number 60 is 3600\n",
      "Square of number 59 is 3481\n",
      "Square of number 62 is 3844\n",
      "Square of number 61 is 3721\n",
      "Square of number 66 is 4356\n",
      "Square of number 65 is 4225\n",
      "Square of number 64 is 4096\n",
      "Square of number 63 is 3969\n",
      "Square of number 70 is 4900\n",
      "Square of number 69 is 4761\n",
      "Square of number 68 is 4624\n",
      "Square of number 67 is 4489\n",
      "Square of number 74 is 5476\n",
      "Square of number 73 is 5329\n",
      "Square of number 72 is 5184\n",
      "Square of number 71 is 5041\n",
      "Square of number 75 is 5625\n",
      "Square of number 76 is 5776\n",
      "Square of number 79 is 6241\n",
      "Square of number 78 is 6084\n",
      "Square of number 77 is 5929\n",
      "Square of number 82 is 6724\n",
      "Square of number 81 is 6561\n",
      "Square of number 80 is 6400\n",
      "Square of number 86 is 7396\n",
      "Square of number 84 is 7056\n",
      "Square of number 83 is 6889\n",
      "Square of number 85 is 7225\n",
      "Square of number 88 is 7744\n",
      "Square of number 87 is 7569\n",
      "Square of number 89 is 7921\n",
      "Square of number 90 is 8100\n",
      "Square of number 91 is 8281\n",
      "Square of number 94 is 8836\n",
      "Square of number 93 is 8649\n",
      "Square of number 92 is 8464\n",
      "Square of number 97 is 9409\n",
      "Square of number 96 is 9216\n",
      "Square of number 95 is 9025\n",
      "Square of number 98 is 9604\n",
      "Square of number 99 is 9801\n",
      "CPU times: total: 93.8 ms\n",
      "Wall time: 1.12 s\n"
     ]
    }
   ],
   "source": [
    "%%time\n",
    "square_multi(b)"
   ]
  },
  {
   "cell_type": "markdown",
   "id": "c4a6c366",
   "metadata": {},
   "source": [
    "### Download multiple files simulaneously"
   ]
  },
  {
   "cell_type": "code",
   "execution_count": 32,
   "id": "d4253786",
   "metadata": {},
   "outputs": [
    {
     "name": "stdout",
     "output_type": "stream",
     "text": [
      "https://raw.githubusercontent.com/utkarshg1/mlproject_regression/main/artifacts/data.csv\n"
     ]
    }
   ],
   "source": [
    "url = \"https://raw.githubusercontent.com/utkarshg1/mlproject_regression/main/artifacts/data.csv\"\n",
    "print(url)"
   ]
  },
  {
   "cell_type": "code",
   "execution_count": 33,
   "id": "e3330e62",
   "metadata": {},
   "outputs": [
    {
     "data": {
      "text/plain": [
       "['https:',\n",
       " '',\n",
       " 'raw.githubusercontent.com',\n",
       " 'utkarshg1',\n",
       " 'mlproject_regression',\n",
       " 'main',\n",
       " 'artifacts',\n",
       " 'data.csv']"
      ]
     },
     "execution_count": 33,
     "metadata": {},
     "output_type": "execute_result"
    }
   ],
   "source": [
    "url.split(\"/\")"
   ]
  },
  {
   "cell_type": "code",
   "execution_count": 34,
   "id": "4849fa53",
   "metadata": {},
   "outputs": [
    {
     "data": {
      "text/plain": [
       "'data.csv'"
      ]
     },
     "execution_count": 34,
     "metadata": {},
     "output_type": "execute_result"
    }
   ],
   "source": [
    "url.split(\"/\")[-1]"
   ]
  },
  {
   "cell_type": "code",
   "execution_count": 35,
   "id": "19de3e03",
   "metadata": {},
   "outputs": [],
   "source": [
    "from urllib.request import urlretrieve"
   ]
  },
  {
   "cell_type": "code",
   "execution_count": 36,
   "id": "a0b1fc07",
   "metadata": {},
   "outputs": [],
   "source": [
    "def download_file(url: str):\n",
    "    filename = url.split(\"/\")[-1]\n",
    "    print(f\"{filename} download started ...\")\n",
    "    urlretrieve(url, filename)\n",
    "    print(f\"{filename} download complete!\")"
   ]
  },
  {
   "cell_type": "code",
   "execution_count": 38,
   "id": "491aef0c",
   "metadata": {},
   "outputs": [
    {
     "data": {
      "text/plain": [
       "'https://raw.githubusercontent.com/utkarshg1/mlproject_regression/main/artifacts/data.csv'"
      ]
     },
     "execution_count": 38,
     "metadata": {},
     "output_type": "execute_result"
    }
   ],
   "source": [
    "url"
   ]
  },
  {
   "cell_type": "code",
   "execution_count": 39,
   "id": "5f5831b0",
   "metadata": {},
   "outputs": [
    {
     "name": "stdout",
     "output_type": "stream",
     "text": [
      "data.csv download started ...\n",
      "data.csv download complete!\n",
      "CPU times: total: 297 ms\n",
      "Wall time: 2.59 s\n"
     ]
    }
   ],
   "source": [
    "%%time\n",
    "download_file(url)"
   ]
  },
  {
   "cell_type": "markdown",
   "id": "cfe68927",
   "metadata": {},
   "source": [
    "### Downloading multiple files"
   ]
  },
  {
   "cell_type": "code",
   "execution_count": 40,
   "id": "49bd6a1a",
   "metadata": {},
   "outputs": [],
   "source": [
    "urls = [\n",
    "    \"https://raw.githubusercontent.com/utkarshg1/mlproject_regression/main/artifacts/data.csv\",\n",
    "    \"https://raw.githubusercontent.com/utkarshg1/mlproject_regression/main/artifacts/test.csv\",\n",
    "    \"https://raw.githubusercontent.com/utkarshg1/mlproject_regression/main/artifacts/train.csv\",\n",
    "]"
   ]
  },
  {
   "cell_type": "code",
   "execution_count": 41,
   "id": "b4d2a95c",
   "metadata": {},
   "outputs": [
    {
     "data": {
      "text/plain": [
       "['https://raw.githubusercontent.com/utkarshg1/mlproject_regression/main/artifacts/data.csv',\n",
       " 'https://raw.githubusercontent.com/utkarshg1/mlproject_regression/main/artifacts/test.csv',\n",
       " 'https://raw.githubusercontent.com/utkarshg1/mlproject_regression/main/artifacts/train.csv']"
      ]
     },
     "execution_count": 41,
     "metadata": {},
     "output_type": "execute_result"
    }
   ],
   "source": [
    "urls"
   ]
  },
  {
   "cell_type": "code",
   "execution_count": 42,
   "id": "5e389a28",
   "metadata": {},
   "outputs": [
    {
     "name": "stdout",
     "output_type": "stream",
     "text": [
      "data.csv download started ...\n",
      "data.csv download complete!\n",
      "test.csv download started ...\n",
      "test.csv download complete!\n",
      "train.csv download started ...\n",
      "train.csv download complete!\n",
      "CPU times: total: 266 ms\n",
      "Wall time: 2.77 s\n"
     ]
    }
   ],
   "source": [
    "%%time\n",
    "for i in urls:\n",
    "    download_file(i)"
   ]
  },
  {
   "cell_type": "code",
   "execution_count": null,
   "id": "939ea0e4",
   "metadata": {},
   "outputs": [],
   "source": []
  }
 ],
 "metadata": {
  "kernelspec": {
   "display_name": "venv",
   "language": "python",
   "name": "python3"
  },
  "language_info": {
   "codemirror_mode": {
    "name": "ipython",
    "version": 3
   },
   "file_extension": ".py",
   "mimetype": "text/x-python",
   "name": "python",
   "nbconvert_exporter": "python",
   "pygments_lexer": "ipython3",
   "version": "3.12.1"
  }
 },
 "nbformat": 4,
 "nbformat_minor": 5
}
